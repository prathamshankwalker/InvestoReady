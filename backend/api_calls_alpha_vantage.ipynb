{
  "nbformat": 4,
  "nbformat_minor": 0,
  "metadata": {
    "colab": {
      "provenance": []
    },
    "kernelspec": {
      "name": "python3",
      "display_name": "Python 3"
    },
    "language_info": {
      "name": "python"
    }
  },
  "cells": [
    {
      "cell_type": "code",
      "execution_count": null,
      "metadata": {
        "colab": {
          "base_uri": "https://localhost:8080/"
        },
        "id": "OB6O8IQ18Kmw",
        "outputId": "54f7137a-1dc3-4f1d-ea55-5ad02ca523e7"
      },
      "outputs": [
        {
          "output_type": "stream",
          "name": "stdout",
          "text": [
            "Looking in indexes: https://pypi.org/simple, https://us-python.pkg.dev/colab-wheels/public/simple/\n",
            "Collecting alpha_vantage\n",
            "  Downloading alpha_vantage-2.3.1-py3-none-any.whl (31 kB)\n",
            "Requirement already satisfied: requests in /usr/local/lib/python3.7/dist-packages (from alpha_vantage) (2.23.0)\n",
            "Requirement already satisfied: aiohttp in /usr/local/lib/python3.7/dist-packages (from alpha_vantage) (3.8.3)\n",
            "Requirement already satisfied: multidict<7.0,>=4.5 in /usr/local/lib/python3.7/dist-packages (from aiohttp->alpha_vantage) (6.0.2)\n",
            "Requirement already satisfied: yarl<2.0,>=1.0 in /usr/local/lib/python3.7/dist-packages (from aiohttp->alpha_vantage) (1.8.1)\n",
            "Requirement already satisfied: asynctest==0.13.0 in /usr/local/lib/python3.7/dist-packages (from aiohttp->alpha_vantage) (0.13.0)\n",
            "Requirement already satisfied: typing-extensions>=3.7.4 in /usr/local/lib/python3.7/dist-packages (from aiohttp->alpha_vantage) (4.1.1)\n",
            "Requirement already satisfied: charset-normalizer<3.0,>=2.0 in /usr/local/lib/python3.7/dist-packages (from aiohttp->alpha_vantage) (2.1.1)\n",
            "Requirement already satisfied: aiosignal>=1.1.2 in /usr/local/lib/python3.7/dist-packages (from aiohttp->alpha_vantage) (1.3.1)\n",
            "Requirement already satisfied: frozenlist>=1.1.1 in /usr/local/lib/python3.7/dist-packages (from aiohttp->alpha_vantage) (1.3.3)\n",
            "Requirement already satisfied: attrs>=17.3.0 in /usr/local/lib/python3.7/dist-packages (from aiohttp->alpha_vantage) (22.1.0)\n",
            "Requirement already satisfied: async-timeout<5.0,>=4.0.0a3 in /usr/local/lib/python3.7/dist-packages (from aiohttp->alpha_vantage) (4.0.2)\n",
            "Requirement already satisfied: idna>=2.0 in /usr/local/lib/python3.7/dist-packages (from yarl<2.0,>=1.0->aiohttp->alpha_vantage) (2.10)\n",
            "Requirement already satisfied: urllib3!=1.25.0,!=1.25.1,<1.26,>=1.21.1 in /usr/local/lib/python3.7/dist-packages (from requests->alpha_vantage) (1.24.3)\n",
            "Requirement already satisfied: chardet<4,>=3.0.2 in /usr/local/lib/python3.7/dist-packages (from requests->alpha_vantage) (3.0.4)\n",
            "Requirement already satisfied: certifi>=2017.4.17 in /usr/local/lib/python3.7/dist-packages (from requests->alpha_vantage) (2022.9.24)\n",
            "Installing collected packages: alpha-vantage\n",
            "Successfully installed alpha-vantage-2.3.1\n"
          ]
        }
      ],
      "source": [
        "!pip install alpha_vantage"
      ]
    },
    {
      "cell_type": "code",
      "source": [
        "from alpha_vantage.timeseries import TimeSeries\n",
        "ts = TimeSeries(key='5KQGQOS6Z9NE2O6L')\n",
        "# Get json object with the intraday data and another with  the call's metadata\n",
        "data, meta_data = ts.get_intraday(symbol='')\n",
        "\n",
        "NEWS_SENTIMENT\n"
      ],
      "metadata": {
        "id": "1vEnxjmZ9TE2"
      },
      "execution_count": null,
      "outputs": []
    },
    {
      "cell_type": "code",
      "source": [
        "from alpha_vantage.timeseries import"
      ],
      "metadata": {
        "colab": {
          "base_uri": "https://localhost:8080/",
          "height": 133
        },
        "id": "zwXS0hlFSURP",
        "outputId": "3d7e9604-13d5-42e6-aa7f-66372d79d6c2"
      },
      "execution_count": null,
      "outputs": [
        {
          "output_type": "error",
          "ename": "SyntaxError",
          "evalue": "ignored",
          "traceback": [
            "\u001b[0;36m  File \u001b[0;32m\"<ipython-input-1-22b4c5a93e8b>\"\u001b[0;36m, line \u001b[0;32m1\u001b[0m\n\u001b[0;31m    from alpha_vantage.timeseries import\u001b[0m\n\u001b[0m                                         ^\u001b[0m\n\u001b[0;31mSyntaxError\u001b[0m\u001b[0;31m:\u001b[0m invalid syntax\n"
          ]
        }
      ]
    },
    {
      "cell_type": "code",
      "source": [
        "l=ts.get_symbol_search(keywords=\"TECHM\")\n",
        "l"
      ],
      "metadata": {
        "colab": {
          "base_uri": "https://localhost:8080/"
        },
        "id": "onRyjDCCNnnk",
        "outputId": "1cf08392-847c-48d9-cbfd-6728c5818caf"
      },
      "execution_count": null,
      "outputs": [
        {
          "output_type": "execute_result",
          "data": {
            "text/plain": [
              "(   1. symbol             2. name 3. type     4. region 5. marketOpen  \\\n",
              " 0  TECHM.BSE  TECH MAHINDRA LTD.  Equity  India/Bombay         09:15   \n",
              " \n",
              "   6. marketClose 7. timezone 8. currency 9. matchScore  \n",
              " 0          15:30     UTC+5.5         INR        0.7692  , None)"
            ]
          },
          "metadata": {},
          "execution_count": 46
        }
      ]
    },
    {
      "cell_type": "code",
      "source": [
        "from inspect import getmembers, isfunction\n",
        "\n",
        "# from somemodule import foo\n",
        "print(getmembers(TimeSeries, isfunction))"
      ],
      "metadata": {
        "colab": {
          "base_uri": "https://localhost:8080/"
        },
        "id": "lmQYL1iBMzo1",
        "outputId": "017b5657-ff4e-4f2b-ab60-e8506e6cf734"
      },
      "execution_count": null,
      "outputs": [
        {
          "output_type": "stream",
          "name": "stdout",
          "text": [
            "[('__init__', <function AlphaVantage.__init__ at 0x7f2860ad7e60>), ('_handle_api_call', <function AlphaVantage._handle_api_call at 0x7f285a06fa70>), ('get_daily', <function TimeSeries.get_daily at 0x7f285a06fdd0>), ('get_daily_adjusted', <function TimeSeries.get_daily_adjusted at 0x7f285a06ff80>), ('get_intraday', <function TimeSeries.get_intraday at 0x7f28614b19e0>), ('get_intraday_extended', <function TimeSeries.get_intraday_extended at 0x7f285a06fc20>), ('get_monthly', <function TimeSeries.get_monthly at 0x7f285a0724d0>), ('get_monthly_adjusted', <function TimeSeries.get_monthly_adjusted at 0x7f285a072680>), ('get_quote_endpoint', <function TimeSeries.get_quote_endpoint at 0x7f285a072830>), ('get_symbol_search', <function TimeSeries.get_symbol_search at 0x7f285a0729e0>), ('get_weekly', <function TimeSeries.get_weekly at 0x7f285a072170>), ('get_weekly_adjusted', <function TimeSeries.get_weekly_adjusted at 0x7f285a072320>), ('map_to_matype', <function AlphaVantage.map_to_matype at 0x7f285a06f9e0>), ('set_proxy', <function AlphaVantage.set_proxy at 0x7f285a06f950>)]\n"
          ]
        }
      ]
    },
    {
      "cell_type": "code",
      "source": [
        "ts.map_to_matype(0)"
      ],
      "metadata": {
        "colab": {
          "base_uri": "https://localhost:8080/"
        },
        "id": "Plb7GopfLufA",
        "outputId": "db6b9c53-35aa-4a5e-a516-37a0f4d903d1"
      },
      "execution_count": null,
      "outputs": [
        {
          "output_type": "execute_result",
          "data": {
            "text/plain": [
              "0"
            ]
          },
          "metadata": {},
          "execution_count": 69
        }
      ]
    },
    {
      "cell_type": "code",
      "source": [
        "import requests\n",
        "\n",
        "# replace the \"demo\" apikey below with your own key from https://www.alphavantage.co/support/#api-key\n",
        "url = 'https://www.alphavantage.co/query?function=GET_MONTHLY&symbol=TECHM.BSE&interval=5min&apikey=5KQGQOS6Z9NE2O6L'\n",
        "r = requests.get(url)\n",
        "data = r.json()\n",
        "\n",
        "print(data)"
      ],
      "metadata": {
        "colab": {
          "base_uri": "https://localhost:8080/"
        },
        "id": "8jgUzLvS9rka",
        "outputId": "0dec59f8-60f7-4c58-f017-eb4fa7f6e4f6"
      },
      "execution_count": null,
      "outputs": [
        {
          "output_type": "stream",
          "name": "stdout",
          "text": [
            "{'Error Message': 'This API function (GET_MONTHLY) does not exist.'}\n"
          ]
        }
      ]
    },
    {
      "cell_type": "code",
      "source": [],
      "metadata": {
        "id": "tbwybWfxUui0"
      },
      "execution_count": null,
      "outputs": []
    },
    {
      "cell_type": "code",
      "source": [
        "import requests\n",
        "\n",
        "# replace the \"demo\" apikey below with your own key from https://www.alphavantage.co/support/#api-key\n",
        "\n",
        "url = 'https://www.alphavantage.co/query?function=TIME_SERIES_INTRADAY&symbol=&interval=5min&apikey=5KQGQOS6Z9NE2O6L'\n",
        "\n",
        "# url='https://www.alphavantage.co/query?function=TIME_SERIES_MONTHLY&symbol=IBM&apikey=5KQGQOS6Z9NE2O6L'\n",
        "\n",
        "r = requests.get(url)\n",
        "data = r.json()\n",
        "\n",
        "print(data)"
      ],
      "metadata": {
        "colab": {
          "base_uri": "https://localhost:8080/"
        },
        "id": "kg65fuPOUhXT",
        "outputId": "2661411b-c93b-450f-a522-bb83b7f6cf37"
      },
      "execution_count": null,
      "outputs": [
        {
          "output_type": "stream",
          "name": "stdout",
          "text": [
            "{'Error Message': 'Invalid API call. Please retry or visit the documentation (https://www.alphavantage.co/documentation/) for TIME_SERIES_INTRADAY.'}\n"
          ]
        }
      ]
    },
    {
      "cell_type": "code",
      "source": [
        "from urllib.parse import urlparse\n",
        "o=urlparse('https://www.alphavantage.co/query?function=TIME_SERIES_INTRADAY&symbol=IBM&interval=5min&apikey=5KQGQOS6Z9NE2O6L')"
      ],
      "metadata": {
        "id": "3hPvRB9AXmvS"
      },
      "execution_count": null,
      "outputs": []
    },
    {
      "cell_type": "code",
      "source": [
        "TimeSeries.get_daily()"
      ],
      "metadata": {
        "id": "NTQzEA2tX6Kj",
        "colab": {
          "base_uri": "https://localhost:8080/",
          "height": 169
        },
        "outputId": "f01ba089-0ae4-4ab7-bd08-433f8d6c8f62"
      },
      "execution_count": null,
      "outputs": [
        {
          "output_type": "error",
          "ename": "TypeError",
          "evalue": "ignored",
          "traceback": [
            "\u001b[0;31m---------------------------------------------------------------------------\u001b[0m",
            "\u001b[0;31mTypeError\u001b[0m                                 Traceback (most recent call last)",
            "\u001b[0;32m<ipython-input-5-405c95585813>\u001b[0m in \u001b[0;36m<module>\u001b[0;34m\u001b[0m\n\u001b[0;32m----> 1\u001b[0;31m \u001b[0mTimeSeries\u001b[0m\u001b[0;34m.\u001b[0m\u001b[0mget_daily\u001b[0m\u001b[0;34m(\u001b[0m\u001b[0;34m)\u001b[0m\u001b[0;34m\u001b[0m\u001b[0;34m\u001b[0m\u001b[0m\n\u001b[0m",
            "\u001b[0;31mTypeError\u001b[0m: _format_wrapper() missing 1 required positional argument: 'self'"
          ]
        }
      ]
    },
    {
      "cell_type": "code",
      "source": [
        "from alpha_vantage.timeseries import TimeSeries\n",
        "from pprint import pprint\n",
        "import pandas as pd\n",
        "ts = TimeSeries(key='5KQGQOS6Z9NE2O6L', output_format='pandas')\n",
        "data, meta_data = ts.get_quote_endpoint(symbol='TECHM.BSE')\n",
        "# data\n",
        "# data.set_index([1])\n",
        "\n",
        "data\n",
        "dictionary = data.to_dict('record')\n",
        "dictionary\n",
        "# pprint(data)\n",
        "# data['05. price']\n",
        "\n",
        "# data, meta_data = ts.get_symbol_search('RELIANCE')\n",
        "# len(data)\n",
        "# data['1. symbol']\n",
        "# getusa=[]\n",
        "\n",
        "# for date, row in data.iterrows():\n",
        "#     # print(row['4. region'])\n",
        "#     if(row['4. region']=='Frankfurt'):\n",
        "#       getusa.append(row['1. symbol'])\n",
        "\n",
        "# getusa\n",
        "# dictionary[]\n",
        "\n"
      ],
      "metadata": {
        "colab": {
          "base_uri": "https://localhost:8080/"
        },
        "id": "kj6kmINUByqI",
        "outputId": "4f8fe6ac-f765-480e-b3de-58d40f0e1862"
      },
      "execution_count": null,
      "outputs": [
        {
          "output_type": "stream",
          "name": "stderr",
          "text": [
            "/usr/local/lib/python3.7/dist-packages/ipykernel_launcher.py:10: FutureWarning: Using short name for 'orient' is deprecated. Only the options: ('dict', list, 'series', 'split', 'records', 'index') will be used in a future version. Use one of the above to silence this warning.\n",
            "  # Remove the CWD from sys.path while we load stuff.\n"
          ]
        },
        {
          "output_type": "execute_result",
          "data": {
            "text/plain": [
              "[{'01. symbol': 'TECHM.BSE',\n",
              "  '02. open': '1087.0000',\n",
              "  '03. high': '1107.8000',\n",
              "  '04. low': '1087.0000',\n",
              "  '05. price': '1101.8000',\n",
              "  '06. volume': '224668',\n",
              "  '07. latest trading day': '2022-12-01',\n",
              "  '08. previous close': '1077.3000',\n",
              "  '09. change': '24.5000',\n",
              "  '10. change percent': '2.2742%'}]"
            ]
          },
          "metadata": {},
          "execution_count": 90
        }
      ]
    },
    {
      "cell_type": "code",
      "source": [
        "# data, meta_data = ts.get_quote_endpoint(symbol='TECHM.BSE')\n",
        "data, meta_data = ts.get_symbol_search('')\n",
        "data"
      ],
      "metadata": {
        "colab": {
          "base_uri": "https://localhost:8080/",
          "height": 629
        },
        "id": "S1JuKi-pn08A",
        "outputId": "2420f62b-e102-474c-abc0-dac610083c99"
      },
      "execution_count": null,
      "outputs": [
        {
          "output_type": "execute_result",
          "data": {
            "text/plain": [
              "                               1. symbol  \\\n",
              "date                                       \n",
              "1970-01-01 00:00:00.000000000        TCS   \n",
              "1970-01-01 00:00:00.000000001    TCS.FRK   \n",
              "1970-01-01 00:00:00.000000002      TCSEX   \n",
              "1970-01-01 00:00:00.000000003      TCSGX   \n",
              "1970-01-01 00:00:00.000000004      TCSHX   \n",
              "1970-01-01 00:00:00.000000005      TCSIX   \n",
              "1970-01-01 00:00:00.000000006    TCS.BSE   \n",
              "1970-01-01 00:00:00.000000007    TCS.TRT   \n",
              "1970-01-01 00:00:00.000000008   TCSB.TRT   \n",
              "1970-01-01 00:00:00.000000009  TCSA3.SAO   \n",
              "\n",
              "                                                                         2. name  \\\n",
              "date                                                                               \n",
              "1970-01-01 00:00:00.000000000                          Container Store Group Inc   \n",
              "1970-01-01 00:00:00.000000001                               Axon Enterprise Inc.   \n",
              "1970-01-01 00:00:00.000000002  TIAA-CREF QUANT SMALL-CAP EQUITY FUND RETAIL C...   \n",
              "1970-01-01 00:00:00.000000003      SDIT SHORT DURATION GOVERNMENT FUND - CLASS F   \n",
              "1970-01-01 00:00:00.000000004                  TRANSAMERICA MULTI-ASSET INCOME C   \n",
              "1970-01-01 00:00:00.000000005  TIAA-CREF LIFESTYLE CONSERVATIVE FUND INSTITUT...   \n",
              "1970-01-01 00:00:00.000000006                     TATA CONSULTANCY SERVICES LTD.   \n",
              "1970-01-01 00:00:00.000000007                                        TECSYS Inc.   \n",
              "1970-01-01 00:00:00.000000008     TD Select Short Term Corporate Bond Ladder ETF   \n",
              "1970-01-01 00:00:00.000000009                                        Tecnisa S.A   \n",
              "\n",
              "                                   3. type         4. region 5. marketOpen  \\\n",
              "date                                                                         \n",
              "1970-01-01 00:00:00.000000000       Equity     United States         09:30   \n",
              "1970-01-01 00:00:00.000000001       Equity         Frankfurt         08:00   \n",
              "1970-01-01 00:00:00.000000002  Mutual Fund     United States         09:30   \n",
              "1970-01-01 00:00:00.000000003  Mutual Fund     United States         09:30   \n",
              "1970-01-01 00:00:00.000000004  Mutual Fund     United States         09:30   \n",
              "1970-01-01 00:00:00.000000005  Mutual Fund     United States         09:30   \n",
              "1970-01-01 00:00:00.000000006       Equity      India/Bombay         09:15   \n",
              "1970-01-01 00:00:00.000000007       Equity           Toronto         09:30   \n",
              "1970-01-01 00:00:00.000000008          ETF           Toronto         09:30   \n",
              "1970-01-01 00:00:00.000000009       Equity  Brazil/Sao Paolo         10:00   \n",
              "\n",
              "                              6. marketClose 7. timezone 8. currency  \\\n",
              "date                                                                   \n",
              "1970-01-01 00:00:00.000000000          16:00      UTC-04         USD   \n",
              "1970-01-01 00:00:00.000000001          20:00      UTC+02         EUR   \n",
              "1970-01-01 00:00:00.000000002          16:00      UTC-04         USD   \n",
              "1970-01-01 00:00:00.000000003          16:00      UTC-04         USD   \n",
              "1970-01-01 00:00:00.000000004          16:00      UTC-04         USD   \n",
              "1970-01-01 00:00:00.000000005          16:00      UTC-04         USD   \n",
              "1970-01-01 00:00:00.000000006          15:30     UTC+5.5         INR   \n",
              "1970-01-01 00:00:00.000000007          16:00      UTC-05         CAD   \n",
              "1970-01-01 00:00:00.000000008          16:00      UTC-05         CAD   \n",
              "1970-01-01 00:00:00.000000009          17:30      UTC-03         BRL   \n",
              "\n",
              "                              9. matchScore  \n",
              "date                                         \n",
              "1970-01-01 00:00:00.000000000        1.0000  \n",
              "1970-01-01 00:00:00.000000001        0.7500  \n",
              "1970-01-01 00:00:00.000000002        0.7500  \n",
              "1970-01-01 00:00:00.000000003        0.7500  \n",
              "1970-01-01 00:00:00.000000004        0.7500  \n",
              "1970-01-01 00:00:00.000000005        0.7500  \n",
              "1970-01-01 00:00:00.000000006        0.6667  \n",
              "1970-01-01 00:00:00.000000007        0.6667  \n",
              "1970-01-01 00:00:00.000000008        0.6000  \n",
              "1970-01-01 00:00:00.000000009        0.5455  "
            ],
            "text/html": [
              "\n",
              "  <div id=\"df-b68eb773-56f2-45e3-bffe-5ccb1f0328a5\">\n",
              "    <div class=\"colab-df-container\">\n",
              "      <div>\n",
              "<style scoped>\n",
              "    .dataframe tbody tr th:only-of-type {\n",
              "        vertical-align: middle;\n",
              "    }\n",
              "\n",
              "    .dataframe tbody tr th {\n",
              "        vertical-align: top;\n",
              "    }\n",
              "\n",
              "    .dataframe thead th {\n",
              "        text-align: right;\n",
              "    }\n",
              "</style>\n",
              "<table border=\"1\" class=\"dataframe\">\n",
              "  <thead>\n",
              "    <tr style=\"text-align: right;\">\n",
              "      <th></th>\n",
              "      <th>1. symbol</th>\n",
              "      <th>2. name</th>\n",
              "      <th>3. type</th>\n",
              "      <th>4. region</th>\n",
              "      <th>5. marketOpen</th>\n",
              "      <th>6. marketClose</th>\n",
              "      <th>7. timezone</th>\n",
              "      <th>8. currency</th>\n",
              "      <th>9. matchScore</th>\n",
              "    </tr>\n",
              "    <tr>\n",
              "      <th>date</th>\n",
              "      <th></th>\n",
              "      <th></th>\n",
              "      <th></th>\n",
              "      <th></th>\n",
              "      <th></th>\n",
              "      <th></th>\n",
              "      <th></th>\n",
              "      <th></th>\n",
              "      <th></th>\n",
              "    </tr>\n",
              "  </thead>\n",
              "  <tbody>\n",
              "    <tr>\n",
              "      <th>1970-01-01 00:00:00.000000000</th>\n",
              "      <td>TCS</td>\n",
              "      <td>Container Store Group Inc</td>\n",
              "      <td>Equity</td>\n",
              "      <td>United States</td>\n",
              "      <td>09:30</td>\n",
              "      <td>16:00</td>\n",
              "      <td>UTC-04</td>\n",
              "      <td>USD</td>\n",
              "      <td>1.0000</td>\n",
              "    </tr>\n",
              "    <tr>\n",
              "      <th>1970-01-01 00:00:00.000000001</th>\n",
              "      <td>TCS.FRK</td>\n",
              "      <td>Axon Enterprise Inc.</td>\n",
              "      <td>Equity</td>\n",
              "      <td>Frankfurt</td>\n",
              "      <td>08:00</td>\n",
              "      <td>20:00</td>\n",
              "      <td>UTC+02</td>\n",
              "      <td>EUR</td>\n",
              "      <td>0.7500</td>\n",
              "    </tr>\n",
              "    <tr>\n",
              "      <th>1970-01-01 00:00:00.000000002</th>\n",
              "      <td>TCSEX</td>\n",
              "      <td>TIAA-CREF QUANT SMALL-CAP EQUITY FUND RETAIL C...</td>\n",
              "      <td>Mutual Fund</td>\n",
              "      <td>United States</td>\n",
              "      <td>09:30</td>\n",
              "      <td>16:00</td>\n",
              "      <td>UTC-04</td>\n",
              "      <td>USD</td>\n",
              "      <td>0.7500</td>\n",
              "    </tr>\n",
              "    <tr>\n",
              "      <th>1970-01-01 00:00:00.000000003</th>\n",
              "      <td>TCSGX</td>\n",
              "      <td>SDIT SHORT DURATION GOVERNMENT FUND - CLASS F</td>\n",
              "      <td>Mutual Fund</td>\n",
              "      <td>United States</td>\n",
              "      <td>09:30</td>\n",
              "      <td>16:00</td>\n",
              "      <td>UTC-04</td>\n",
              "      <td>USD</td>\n",
              "      <td>0.7500</td>\n",
              "    </tr>\n",
              "    <tr>\n",
              "      <th>1970-01-01 00:00:00.000000004</th>\n",
              "      <td>TCSHX</td>\n",
              "      <td>TRANSAMERICA MULTI-ASSET INCOME C</td>\n",
              "      <td>Mutual Fund</td>\n",
              "      <td>United States</td>\n",
              "      <td>09:30</td>\n",
              "      <td>16:00</td>\n",
              "      <td>UTC-04</td>\n",
              "      <td>USD</td>\n",
              "      <td>0.7500</td>\n",
              "    </tr>\n",
              "    <tr>\n",
              "      <th>1970-01-01 00:00:00.000000005</th>\n",
              "      <td>TCSIX</td>\n",
              "      <td>TIAA-CREF LIFESTYLE CONSERVATIVE FUND INSTITUT...</td>\n",
              "      <td>Mutual Fund</td>\n",
              "      <td>United States</td>\n",
              "      <td>09:30</td>\n",
              "      <td>16:00</td>\n",
              "      <td>UTC-04</td>\n",
              "      <td>USD</td>\n",
              "      <td>0.7500</td>\n",
              "    </tr>\n",
              "    <tr>\n",
              "      <th>1970-01-01 00:00:00.000000006</th>\n",
              "      <td>TCS.BSE</td>\n",
              "      <td>TATA CONSULTANCY SERVICES LTD.</td>\n",
              "      <td>Equity</td>\n",
              "      <td>India/Bombay</td>\n",
              "      <td>09:15</td>\n",
              "      <td>15:30</td>\n",
              "      <td>UTC+5.5</td>\n",
              "      <td>INR</td>\n",
              "      <td>0.6667</td>\n",
              "    </tr>\n",
              "    <tr>\n",
              "      <th>1970-01-01 00:00:00.000000007</th>\n",
              "      <td>TCS.TRT</td>\n",
              "      <td>TECSYS Inc.</td>\n",
              "      <td>Equity</td>\n",
              "      <td>Toronto</td>\n",
              "      <td>09:30</td>\n",
              "      <td>16:00</td>\n",
              "      <td>UTC-05</td>\n",
              "      <td>CAD</td>\n",
              "      <td>0.6667</td>\n",
              "    </tr>\n",
              "    <tr>\n",
              "      <th>1970-01-01 00:00:00.000000008</th>\n",
              "      <td>TCSB.TRT</td>\n",
              "      <td>TD Select Short Term Corporate Bond Ladder ETF</td>\n",
              "      <td>ETF</td>\n",
              "      <td>Toronto</td>\n",
              "      <td>09:30</td>\n",
              "      <td>16:00</td>\n",
              "      <td>UTC-05</td>\n",
              "      <td>CAD</td>\n",
              "      <td>0.6000</td>\n",
              "    </tr>\n",
              "    <tr>\n",
              "      <th>1970-01-01 00:00:00.000000009</th>\n",
              "      <td>TCSA3.SAO</td>\n",
              "      <td>Tecnisa S.A</td>\n",
              "      <td>Equity</td>\n",
              "      <td>Brazil/Sao Paolo</td>\n",
              "      <td>10:00</td>\n",
              "      <td>17:30</td>\n",
              "      <td>UTC-03</td>\n",
              "      <td>BRL</td>\n",
              "      <td>0.5455</td>\n",
              "    </tr>\n",
              "  </tbody>\n",
              "</table>\n",
              "</div>\n",
              "      <button class=\"colab-df-convert\" onclick=\"convertToInteractive('df-b68eb773-56f2-45e3-bffe-5ccb1f0328a5')\"\n",
              "              title=\"Convert this dataframe to an interactive table.\"\n",
              "              style=\"display:none;\">\n",
              "        \n",
              "  <svg xmlns=\"http://www.w3.org/2000/svg\" height=\"24px\"viewBox=\"0 0 24 24\"\n",
              "       width=\"24px\">\n",
              "    <path d=\"M0 0h24v24H0V0z\" fill=\"none\"/>\n",
              "    <path d=\"M18.56 5.44l.94 2.06.94-2.06 2.06-.94-2.06-.94-.94-2.06-.94 2.06-2.06.94zm-11 1L8.5 8.5l.94-2.06 2.06-.94-2.06-.94L8.5 2.5l-.94 2.06-2.06.94zm10 10l.94 2.06.94-2.06 2.06-.94-2.06-.94-.94-2.06-.94 2.06-2.06.94z\"/><path d=\"M17.41 7.96l-1.37-1.37c-.4-.4-.92-.59-1.43-.59-.52 0-1.04.2-1.43.59L10.3 9.45l-7.72 7.72c-.78.78-.78 2.05 0 2.83L4 21.41c.39.39.9.59 1.41.59.51 0 1.02-.2 1.41-.59l7.78-7.78 2.81-2.81c.8-.78.8-2.07 0-2.86zM5.41 20L4 18.59l7.72-7.72 1.47 1.35L5.41 20z\"/>\n",
              "  </svg>\n",
              "      </button>\n",
              "      \n",
              "  <style>\n",
              "    .colab-df-container {\n",
              "      display:flex;\n",
              "      flex-wrap:wrap;\n",
              "      gap: 12px;\n",
              "    }\n",
              "\n",
              "    .colab-df-convert {\n",
              "      background-color: #E8F0FE;\n",
              "      border: none;\n",
              "      border-radius: 50%;\n",
              "      cursor: pointer;\n",
              "      display: none;\n",
              "      fill: #1967D2;\n",
              "      height: 32px;\n",
              "      padding: 0 0 0 0;\n",
              "      width: 32px;\n",
              "    }\n",
              "\n",
              "    .colab-df-convert:hover {\n",
              "      background-color: #E2EBFA;\n",
              "      box-shadow: 0px 1px 2px rgba(60, 64, 67, 0.3), 0px 1px 3px 1px rgba(60, 64, 67, 0.15);\n",
              "      fill: #174EA6;\n",
              "    }\n",
              "\n",
              "    [theme=dark] .colab-df-convert {\n",
              "      background-color: #3B4455;\n",
              "      fill: #D2E3FC;\n",
              "    }\n",
              "\n",
              "    [theme=dark] .colab-df-convert:hover {\n",
              "      background-color: #434B5C;\n",
              "      box-shadow: 0px 1px 3px 1px rgba(0, 0, 0, 0.15);\n",
              "      filter: drop-shadow(0px 1px 2px rgba(0, 0, 0, 0.3));\n",
              "      fill: #FFFFFF;\n",
              "    }\n",
              "  </style>\n",
              "\n",
              "      <script>\n",
              "        const buttonEl =\n",
              "          document.querySelector('#df-b68eb773-56f2-45e3-bffe-5ccb1f0328a5 button.colab-df-convert');\n",
              "        buttonEl.style.display =\n",
              "          google.colab.kernel.accessAllowed ? 'block' : 'none';\n",
              "\n",
              "        async function convertToInteractive(key) {\n",
              "          const element = document.querySelector('#df-b68eb773-56f2-45e3-bffe-5ccb1f0328a5');\n",
              "          const dataTable =\n",
              "            await google.colab.kernel.invokeFunction('convertToInteractive',\n",
              "                                                     [key], {});\n",
              "          if (!dataTable) return;\n",
              "\n",
              "          const docLinkHtml = 'Like what you see? Visit the ' +\n",
              "            '<a target=\"_blank\" href=https://colab.research.google.com/notebooks/data_table.ipynb>data table notebook</a>'\n",
              "            + ' to learn more about interactive tables.';\n",
              "          element.innerHTML = '';\n",
              "          dataTable['output_type'] = 'display_data';\n",
              "          await google.colab.output.renderOutput(dataTable, element);\n",
              "          const docLink = document.createElement('div');\n",
              "          docLink.innerHTML = docLinkHtml;\n",
              "          element.appendChild(docLink);\n",
              "        }\n",
              "      </script>\n",
              "    </div>\n",
              "  </div>\n",
              "  "
            ]
          },
          "metadata": {},
          "execution_count": 102
        }
      ]
    },
    {
      "cell_type": "code",
      "source": [
        "# making the list view of 15 stocks (by market cap)\n",
        "\n",
        "# !pip install alpha_vantage\n",
        "\n",
        "\n",
        "\n",
        "\n"
      ],
      "metadata": {
        "colab": {
          "base_uri": "https://localhost:8080/",
          "height": 629
        },
        "id": "VPFBNSkanDkO",
        "outputId": "77ac77a2-7330-4456-b180-8b8ae0446296"
      },
      "execution_count": null,
      "outputs": [
        {
          "output_type": "execute_result",
          "data": {
            "text/plain": [
              "                               1. symbol  \\\n",
              "date                                       \n",
              "1970-01-01 00:00:00.000000000        TCS   \n",
              "1970-01-01 00:00:00.000000001    TCS.FRK   \n",
              "1970-01-01 00:00:00.000000002      TCSEX   \n",
              "1970-01-01 00:00:00.000000003      TCSGX   \n",
              "1970-01-01 00:00:00.000000004      TCSHX   \n",
              "1970-01-01 00:00:00.000000005      TCSIX   \n",
              "1970-01-01 00:00:00.000000006    TCS.BSE   \n",
              "1970-01-01 00:00:00.000000007    TCS.TRT   \n",
              "1970-01-01 00:00:00.000000008   TCSB.TRT   \n",
              "1970-01-01 00:00:00.000000009  TCSA3.SAO   \n",
              "\n",
              "                                                                         2. name  \\\n",
              "date                                                                               \n",
              "1970-01-01 00:00:00.000000000                          Container Store Group Inc   \n",
              "1970-01-01 00:00:00.000000001                               Axon Enterprise Inc.   \n",
              "1970-01-01 00:00:00.000000002  TIAA-CREF QUANT SMALL-CAP EQUITY FUND RETAIL C...   \n",
              "1970-01-01 00:00:00.000000003      SDIT SHORT DURATION GOVERNMENT FUND - CLASS F   \n",
              "1970-01-01 00:00:00.000000004                  TRANSAMERICA MULTI-ASSET INCOME C   \n",
              "1970-01-01 00:00:00.000000005  TIAA-CREF LIFESTYLE CONSERVATIVE FUND INSTITUT...   \n",
              "1970-01-01 00:00:00.000000006                     TATA CONSULTANCY SERVICES LTD.   \n",
              "1970-01-01 00:00:00.000000007                                        TECSYS Inc.   \n",
              "1970-01-01 00:00:00.000000008     TD Select Short Term Corporate Bond Ladder ETF   \n",
              "1970-01-01 00:00:00.000000009                                        Tecnisa S.A   \n",
              "\n",
              "                                   3. type         4. region 5. marketOpen  \\\n",
              "date                                                                         \n",
              "1970-01-01 00:00:00.000000000       Equity     United States         09:30   \n",
              "1970-01-01 00:00:00.000000001       Equity         Frankfurt         08:00   \n",
              "1970-01-01 00:00:00.000000002  Mutual Fund     United States         09:30   \n",
              "1970-01-01 00:00:00.000000003  Mutual Fund     United States         09:30   \n",
              "1970-01-01 00:00:00.000000004  Mutual Fund     United States         09:30   \n",
              "1970-01-01 00:00:00.000000005  Mutual Fund     United States         09:30   \n",
              "1970-01-01 00:00:00.000000006       Equity      India/Bombay         09:15   \n",
              "1970-01-01 00:00:00.000000007       Equity           Toronto         09:30   \n",
              "1970-01-01 00:00:00.000000008          ETF           Toronto         09:30   \n",
              "1970-01-01 00:00:00.000000009       Equity  Brazil/Sao Paolo         10:00   \n",
              "\n",
              "                              6. marketClose 7. timezone 8. currency  \\\n",
              "date                                                                   \n",
              "1970-01-01 00:00:00.000000000          16:00      UTC-04         USD   \n",
              "1970-01-01 00:00:00.000000001          20:00      UTC+02         EUR   \n",
              "1970-01-01 00:00:00.000000002          16:00      UTC-04         USD   \n",
              "1970-01-01 00:00:00.000000003          16:00      UTC-04         USD   \n",
              "1970-01-01 00:00:00.000000004          16:00      UTC-04         USD   \n",
              "1970-01-01 00:00:00.000000005          16:00      UTC-04         USD   \n",
              "1970-01-01 00:00:00.000000006          15:30     UTC+5.5         INR   \n",
              "1970-01-01 00:00:00.000000007          16:00      UTC-05         CAD   \n",
              "1970-01-01 00:00:00.000000008          16:00      UTC-05         CAD   \n",
              "1970-01-01 00:00:00.000000009          17:30      UTC-03         BRL   \n",
              "\n",
              "                              9. matchScore  \n",
              "date                                         \n",
              "1970-01-01 00:00:00.000000000        1.0000  \n",
              "1970-01-01 00:00:00.000000001        0.7500  \n",
              "1970-01-01 00:00:00.000000002        0.7500  \n",
              "1970-01-01 00:00:00.000000003        0.7500  \n",
              "1970-01-01 00:00:00.000000004        0.7500  \n",
              "1970-01-01 00:00:00.000000005        0.7500  \n",
              "1970-01-01 00:00:00.000000006        0.6667  \n",
              "1970-01-01 00:00:00.000000007        0.6667  \n",
              "1970-01-01 00:00:00.000000008        0.6000  \n",
              "1970-01-01 00:00:00.000000009        0.5455  "
            ],
            "text/html": [
              "\n",
              "  <div id=\"df-17d41fd5-8162-48c5-a39b-5717323d4671\">\n",
              "    <div class=\"colab-df-container\">\n",
              "      <div>\n",
              "<style scoped>\n",
              "    .dataframe tbody tr th:only-of-type {\n",
              "        vertical-align: middle;\n",
              "    }\n",
              "\n",
              "    .dataframe tbody tr th {\n",
              "        vertical-align: top;\n",
              "    }\n",
              "\n",
              "    .dataframe thead th {\n",
              "        text-align: right;\n",
              "    }\n",
              "</style>\n",
              "<table border=\"1\" class=\"dataframe\">\n",
              "  <thead>\n",
              "    <tr style=\"text-align: right;\">\n",
              "      <th></th>\n",
              "      <th>1. symbol</th>\n",
              "      <th>2. name</th>\n",
              "      <th>3. type</th>\n",
              "      <th>4. region</th>\n",
              "      <th>5. marketOpen</th>\n",
              "      <th>6. marketClose</th>\n",
              "      <th>7. timezone</th>\n",
              "      <th>8. currency</th>\n",
              "      <th>9. matchScore</th>\n",
              "    </tr>\n",
              "    <tr>\n",
              "      <th>date</th>\n",
              "      <th></th>\n",
              "      <th></th>\n",
              "      <th></th>\n",
              "      <th></th>\n",
              "      <th></th>\n",
              "      <th></th>\n",
              "      <th></th>\n",
              "      <th></th>\n",
              "      <th></th>\n",
              "    </tr>\n",
              "  </thead>\n",
              "  <tbody>\n",
              "    <tr>\n",
              "      <th>1970-01-01 00:00:00.000000000</th>\n",
              "      <td>TCS</td>\n",
              "      <td>Container Store Group Inc</td>\n",
              "      <td>Equity</td>\n",
              "      <td>United States</td>\n",
              "      <td>09:30</td>\n",
              "      <td>16:00</td>\n",
              "      <td>UTC-04</td>\n",
              "      <td>USD</td>\n",
              "      <td>1.0000</td>\n",
              "    </tr>\n",
              "    <tr>\n",
              "      <th>1970-01-01 00:00:00.000000001</th>\n",
              "      <td>TCS.FRK</td>\n",
              "      <td>Axon Enterprise Inc.</td>\n",
              "      <td>Equity</td>\n",
              "      <td>Frankfurt</td>\n",
              "      <td>08:00</td>\n",
              "      <td>20:00</td>\n",
              "      <td>UTC+02</td>\n",
              "      <td>EUR</td>\n",
              "      <td>0.7500</td>\n",
              "    </tr>\n",
              "    <tr>\n",
              "      <th>1970-01-01 00:00:00.000000002</th>\n",
              "      <td>TCSEX</td>\n",
              "      <td>TIAA-CREF QUANT SMALL-CAP EQUITY FUND RETAIL C...</td>\n",
              "      <td>Mutual Fund</td>\n",
              "      <td>United States</td>\n",
              "      <td>09:30</td>\n",
              "      <td>16:00</td>\n",
              "      <td>UTC-04</td>\n",
              "      <td>USD</td>\n",
              "      <td>0.7500</td>\n",
              "    </tr>\n",
              "    <tr>\n",
              "      <th>1970-01-01 00:00:00.000000003</th>\n",
              "      <td>TCSGX</td>\n",
              "      <td>SDIT SHORT DURATION GOVERNMENT FUND - CLASS F</td>\n",
              "      <td>Mutual Fund</td>\n",
              "      <td>United States</td>\n",
              "      <td>09:30</td>\n",
              "      <td>16:00</td>\n",
              "      <td>UTC-04</td>\n",
              "      <td>USD</td>\n",
              "      <td>0.7500</td>\n",
              "    </tr>\n",
              "    <tr>\n",
              "      <th>1970-01-01 00:00:00.000000004</th>\n",
              "      <td>TCSHX</td>\n",
              "      <td>TRANSAMERICA MULTI-ASSET INCOME C</td>\n",
              "      <td>Mutual Fund</td>\n",
              "      <td>United States</td>\n",
              "      <td>09:30</td>\n",
              "      <td>16:00</td>\n",
              "      <td>UTC-04</td>\n",
              "      <td>USD</td>\n",
              "      <td>0.7500</td>\n",
              "    </tr>\n",
              "    <tr>\n",
              "      <th>1970-01-01 00:00:00.000000005</th>\n",
              "      <td>TCSIX</td>\n",
              "      <td>TIAA-CREF LIFESTYLE CONSERVATIVE FUND INSTITUT...</td>\n",
              "      <td>Mutual Fund</td>\n",
              "      <td>United States</td>\n",
              "      <td>09:30</td>\n",
              "      <td>16:00</td>\n",
              "      <td>UTC-04</td>\n",
              "      <td>USD</td>\n",
              "      <td>0.7500</td>\n",
              "    </tr>\n",
              "    <tr>\n",
              "      <th>1970-01-01 00:00:00.000000006</th>\n",
              "      <td>TCS.BSE</td>\n",
              "      <td>TATA CONSULTANCY SERVICES LTD.</td>\n",
              "      <td>Equity</td>\n",
              "      <td>India/Bombay</td>\n",
              "      <td>09:15</td>\n",
              "      <td>15:30</td>\n",
              "      <td>UTC+5.5</td>\n",
              "      <td>INR</td>\n",
              "      <td>0.6667</td>\n",
              "    </tr>\n",
              "    <tr>\n",
              "      <th>1970-01-01 00:00:00.000000007</th>\n",
              "      <td>TCS.TRT</td>\n",
              "      <td>TECSYS Inc.</td>\n",
              "      <td>Equity</td>\n",
              "      <td>Toronto</td>\n",
              "      <td>09:30</td>\n",
              "      <td>16:00</td>\n",
              "      <td>UTC-05</td>\n",
              "      <td>CAD</td>\n",
              "      <td>0.6667</td>\n",
              "    </tr>\n",
              "    <tr>\n",
              "      <th>1970-01-01 00:00:00.000000008</th>\n",
              "      <td>TCSB.TRT</td>\n",
              "      <td>TD Select Short Term Corporate Bond Ladder ETF</td>\n",
              "      <td>ETF</td>\n",
              "      <td>Toronto</td>\n",
              "      <td>09:30</td>\n",
              "      <td>16:00</td>\n",
              "      <td>UTC-05</td>\n",
              "      <td>CAD</td>\n",
              "      <td>0.6000</td>\n",
              "    </tr>\n",
              "    <tr>\n",
              "      <th>1970-01-01 00:00:00.000000009</th>\n",
              "      <td>TCSA3.SAO</td>\n",
              "      <td>Tecnisa S.A</td>\n",
              "      <td>Equity</td>\n",
              "      <td>Brazil/Sao Paolo</td>\n",
              "      <td>10:00</td>\n",
              "      <td>17:30</td>\n",
              "      <td>UTC-03</td>\n",
              "      <td>BRL</td>\n",
              "      <td>0.5455</td>\n",
              "    </tr>\n",
              "  </tbody>\n",
              "</table>\n",
              "</div>\n",
              "      <button class=\"colab-df-convert\" onclick=\"convertToInteractive('df-17d41fd5-8162-48c5-a39b-5717323d4671')\"\n",
              "              title=\"Convert this dataframe to an interactive table.\"\n",
              "              style=\"display:none;\">\n",
              "        \n",
              "  <svg xmlns=\"http://www.w3.org/2000/svg\" height=\"24px\"viewBox=\"0 0 24 24\"\n",
              "       width=\"24px\">\n",
              "    <path d=\"M0 0h24v24H0V0z\" fill=\"none\"/>\n",
              "    <path d=\"M18.56 5.44l.94 2.06.94-2.06 2.06-.94-2.06-.94-.94-2.06-.94 2.06-2.06.94zm-11 1L8.5 8.5l.94-2.06 2.06-.94-2.06-.94L8.5 2.5l-.94 2.06-2.06.94zm10 10l.94 2.06.94-2.06 2.06-.94-2.06-.94-.94-2.06-.94 2.06-2.06.94z\"/><path d=\"M17.41 7.96l-1.37-1.37c-.4-.4-.92-.59-1.43-.59-.52 0-1.04.2-1.43.59L10.3 9.45l-7.72 7.72c-.78.78-.78 2.05 0 2.83L4 21.41c.39.39.9.59 1.41.59.51 0 1.02-.2 1.41-.59l7.78-7.78 2.81-2.81c.8-.78.8-2.07 0-2.86zM5.41 20L4 18.59l7.72-7.72 1.47 1.35L5.41 20z\"/>\n",
              "  </svg>\n",
              "      </button>\n",
              "      \n",
              "  <style>\n",
              "    .colab-df-container {\n",
              "      display:flex;\n",
              "      flex-wrap:wrap;\n",
              "      gap: 12px;\n",
              "    }\n",
              "\n",
              "    .colab-df-convert {\n",
              "      background-color: #E8F0FE;\n",
              "      border: none;\n",
              "      border-radius: 50%;\n",
              "      cursor: pointer;\n",
              "      display: none;\n",
              "      fill: #1967D2;\n",
              "      height: 32px;\n",
              "      padding: 0 0 0 0;\n",
              "      width: 32px;\n",
              "    }\n",
              "\n",
              "    .colab-df-convert:hover {\n",
              "      background-color: #E2EBFA;\n",
              "      box-shadow: 0px 1px 2px rgba(60, 64, 67, 0.3), 0px 1px 3px 1px rgba(60, 64, 67, 0.15);\n",
              "      fill: #174EA6;\n",
              "    }\n",
              "\n",
              "    [theme=dark] .colab-df-convert {\n",
              "      background-color: #3B4455;\n",
              "      fill: #D2E3FC;\n",
              "    }\n",
              "\n",
              "    [theme=dark] .colab-df-convert:hover {\n",
              "      background-color: #434B5C;\n",
              "      box-shadow: 0px 1px 3px 1px rgba(0, 0, 0, 0.15);\n",
              "      filter: drop-shadow(0px 1px 2px rgba(0, 0, 0, 0.3));\n",
              "      fill: #FFFFFF;\n",
              "    }\n",
              "  </style>\n",
              "\n",
              "      <script>\n",
              "        const buttonEl =\n",
              "          document.querySelector('#df-17d41fd5-8162-48c5-a39b-5717323d4671 button.colab-df-convert');\n",
              "        buttonEl.style.display =\n",
              "          google.colab.kernel.accessAllowed ? 'block' : 'none';\n",
              "\n",
              "        async function convertToInteractive(key) {\n",
              "          const element = document.querySelector('#df-17d41fd5-8162-48c5-a39b-5717323d4671');\n",
              "          const dataTable =\n",
              "            await google.colab.kernel.invokeFunction('convertToInteractive',\n",
              "                                                     [key], {});\n",
              "          if (!dataTable) return;\n",
              "\n",
              "          const docLinkHtml = 'Like what you see? Visit the ' +\n",
              "            '<a target=\"_blank\" href=https://colab.research.google.com/notebooks/data_table.ipynb>data table notebook</a>'\n",
              "            + ' to learn more about interactive tables.';\n",
              "          element.innerHTML = '';\n",
              "          dataTable['output_type'] = 'display_data';\n",
              "          await google.colab.output.renderOutput(dataTable, element);\n",
              "          const docLink = document.createElement('div');\n",
              "          docLink.innerHTML = docLinkHtml;\n",
              "          element.appendChild(docLink);\n",
              "        }\n",
              "      </script>\n",
              "    </div>\n",
              "  </div>\n",
              "  "
            ]
          },
          "metadata": {},
          "execution_count": 130
        }
      ]
    },
    {
      "cell_type": "code",
      "source": [
        "data2, meta_data = ts.get_quote_endpoint(symbol='RELIANCE.BSE')\n",
        "data=data.append(data2)\n",
        "# dictionary[1] = data2.to_dict('record')"
      ],
      "metadata": {
        "id": "xqD82bv3kSGz"
      },
      "execution_count": null,
      "outputs": []
    },
    {
      "cell_type": "code",
      "source": [
        "data_rel, meta_data_rel= ts.get_symbol_search('ASIAN')\n",
        "data_rel"
      ],
      "metadata": {
        "colab": {
          "base_uri": "https://localhost:8080/",
          "height": 438
        },
        "id": "S1bQ78J6dLyD",
        "outputId": "296712d2-bf4c-4a61-b5da-098bb0cfc764"
      },
      "execution_count": null,
      "outputs": [
        {
          "output_type": "execute_result",
          "data": {
            "text/plain": [
              "                                    1. symbol                        2. name  \\\n",
              "date                                                                           \n",
              "1970-01-01 00:00:00.000000000            ASIC                    Asiana Corp   \n",
              "1970-01-01 00:00:00.000000001    ASIANENE.BSE      Asian Energy Services Ltd   \n",
              "1970-01-01 00:00:00.000000002    ASIANTNE.BSE     ASIAN TEA & EXPORTS LTD.-$   \n",
              "1970-01-01 00:00:00.000000003  ASIANHOTNR.BSE   Asian Hotels (North) Limited   \n",
              "1970-01-01 00:00:00.000000004  ASIANPAINT.BSE              ASIAN PAINTS LTD.   \n",
              "1970-01-01 00:00:00.000000005  ASIANTILES.BSE       ASIAN GRANITO INDIA LTD.   \n",
              "1970-01-01 00:00:00.000000006            ASDG             Asiana Dragons Inc   \n",
              "1970-01-01 00:00:00.000000007           ACITF             Asian Citrus Hldgs   \n",
              "1970-01-01 00:00:00.000000008           ACTFF           ASIAN CITRUS HOLDING   \n",
              "1970-01-01 00:00:00.000000009      530355.BSE  Asian Energy Services Limited   \n",
              "\n",
              "                              3. type      4. region 5. marketOpen  \\\n",
              "date                                                                 \n",
              "1970-01-01 00:00:00.000000000  Equity  United States         09:30   \n",
              "1970-01-01 00:00:00.000000001  Equity   India/Bombay         09:15   \n",
              "1970-01-01 00:00:00.000000002  Equity   India/Bombay         09:15   \n",
              "1970-01-01 00:00:00.000000003  Equity   India/Bombay         09:15   \n",
              "1970-01-01 00:00:00.000000004  Equity   India/Bombay         09:15   \n",
              "1970-01-01 00:00:00.000000005  Equity   India/Bombay         09:15   \n",
              "1970-01-01 00:00:00.000000006  Equity  United States         09:30   \n",
              "1970-01-01 00:00:00.000000007  Equity  United States         09:30   \n",
              "1970-01-01 00:00:00.000000008  Equity  United States         09:30   \n",
              "1970-01-01 00:00:00.000000009  Equity   India/Bombay         09:15   \n",
              "\n",
              "                              6. marketClose 7. timezone 8. currency  \\\n",
              "date                                                                   \n",
              "1970-01-01 00:00:00.000000000          16:00      UTC-04         USD   \n",
              "1970-01-01 00:00:00.000000001          15:30     UTC+5.5         INR   \n",
              "1970-01-01 00:00:00.000000002          15:30     UTC+5.5         INR   \n",
              "1970-01-01 00:00:00.000000003          15:30     UTC+5.5         INR   \n",
              "1970-01-01 00:00:00.000000004          15:30     UTC+5.5         INR   \n",
              "1970-01-01 00:00:00.000000005          15:30     UTC+5.5         INR   \n",
              "1970-01-01 00:00:00.000000006          16:00      UTC-04         USD   \n",
              "1970-01-01 00:00:00.000000007          16:00      UTC-04         USD   \n",
              "1970-01-01 00:00:00.000000008          16:00      UTC-04         USD   \n",
              "1970-01-01 00:00:00.000000009          15:30     UTC+5.5         INR   \n",
              "\n",
              "                              9. matchScore  \n",
              "date                                         \n",
              "1970-01-01 00:00:00.000000000        0.6667  \n",
              "1970-01-01 00:00:00.000000001        0.6250  \n",
              "1970-01-01 00:00:00.000000002        0.6250  \n",
              "1970-01-01 00:00:00.000000003        0.5556  \n",
              "1970-01-01 00:00:00.000000004        0.5556  \n",
              "1970-01-01 00:00:00.000000005        0.5556  \n",
              "1970-01-01 00:00:00.000000006        0.4444  \n",
              "1970-01-01 00:00:00.000000007        0.4348  \n",
              "1970-01-01 00:00:00.000000008        0.4000  \n",
              "1970-01-01 00:00:00.000000009        0.2941  "
            ],
            "text/html": [
              "\n",
              "  <div id=\"df-9c104089-d00f-4e80-842c-e5efa21c925e\">\n",
              "    <div class=\"colab-df-container\">\n",
              "      <div>\n",
              "<style scoped>\n",
              "    .dataframe tbody tr th:only-of-type {\n",
              "        vertical-align: middle;\n",
              "    }\n",
              "\n",
              "    .dataframe tbody tr th {\n",
              "        vertical-align: top;\n",
              "    }\n",
              "\n",
              "    .dataframe thead th {\n",
              "        text-align: right;\n",
              "    }\n",
              "</style>\n",
              "<table border=\"1\" class=\"dataframe\">\n",
              "  <thead>\n",
              "    <tr style=\"text-align: right;\">\n",
              "      <th></th>\n",
              "      <th>1. symbol</th>\n",
              "      <th>2. name</th>\n",
              "      <th>3. type</th>\n",
              "      <th>4. region</th>\n",
              "      <th>5. marketOpen</th>\n",
              "      <th>6. marketClose</th>\n",
              "      <th>7. timezone</th>\n",
              "      <th>8. currency</th>\n",
              "      <th>9. matchScore</th>\n",
              "    </tr>\n",
              "    <tr>\n",
              "      <th>date</th>\n",
              "      <th></th>\n",
              "      <th></th>\n",
              "      <th></th>\n",
              "      <th></th>\n",
              "      <th></th>\n",
              "      <th></th>\n",
              "      <th></th>\n",
              "      <th></th>\n",
              "      <th></th>\n",
              "    </tr>\n",
              "  </thead>\n",
              "  <tbody>\n",
              "    <tr>\n",
              "      <th>1970-01-01 00:00:00.000000000</th>\n",
              "      <td>ASIC</td>\n",
              "      <td>Asiana Corp</td>\n",
              "      <td>Equity</td>\n",
              "      <td>United States</td>\n",
              "      <td>09:30</td>\n",
              "      <td>16:00</td>\n",
              "      <td>UTC-04</td>\n",
              "      <td>USD</td>\n",
              "      <td>0.6667</td>\n",
              "    </tr>\n",
              "    <tr>\n",
              "      <th>1970-01-01 00:00:00.000000001</th>\n",
              "      <td>ASIANENE.BSE</td>\n",
              "      <td>Asian Energy Services Ltd</td>\n",
              "      <td>Equity</td>\n",
              "      <td>India/Bombay</td>\n",
              "      <td>09:15</td>\n",
              "      <td>15:30</td>\n",
              "      <td>UTC+5.5</td>\n",
              "      <td>INR</td>\n",
              "      <td>0.6250</td>\n",
              "    </tr>\n",
              "    <tr>\n",
              "      <th>1970-01-01 00:00:00.000000002</th>\n",
              "      <td>ASIANTNE.BSE</td>\n",
              "      <td>ASIAN TEA &amp; EXPORTS LTD.-$</td>\n",
              "      <td>Equity</td>\n",
              "      <td>India/Bombay</td>\n",
              "      <td>09:15</td>\n",
              "      <td>15:30</td>\n",
              "      <td>UTC+5.5</td>\n",
              "      <td>INR</td>\n",
              "      <td>0.6250</td>\n",
              "    </tr>\n",
              "    <tr>\n",
              "      <th>1970-01-01 00:00:00.000000003</th>\n",
              "      <td>ASIANHOTNR.BSE</td>\n",
              "      <td>Asian Hotels (North) Limited</td>\n",
              "      <td>Equity</td>\n",
              "      <td>India/Bombay</td>\n",
              "      <td>09:15</td>\n",
              "      <td>15:30</td>\n",
              "      <td>UTC+5.5</td>\n",
              "      <td>INR</td>\n",
              "      <td>0.5556</td>\n",
              "    </tr>\n",
              "    <tr>\n",
              "      <th>1970-01-01 00:00:00.000000004</th>\n",
              "      <td>ASIANPAINT.BSE</td>\n",
              "      <td>ASIAN PAINTS LTD.</td>\n",
              "      <td>Equity</td>\n",
              "      <td>India/Bombay</td>\n",
              "      <td>09:15</td>\n",
              "      <td>15:30</td>\n",
              "      <td>UTC+5.5</td>\n",
              "      <td>INR</td>\n",
              "      <td>0.5556</td>\n",
              "    </tr>\n",
              "    <tr>\n",
              "      <th>1970-01-01 00:00:00.000000005</th>\n",
              "      <td>ASIANTILES.BSE</td>\n",
              "      <td>ASIAN GRANITO INDIA LTD.</td>\n",
              "      <td>Equity</td>\n",
              "      <td>India/Bombay</td>\n",
              "      <td>09:15</td>\n",
              "      <td>15:30</td>\n",
              "      <td>UTC+5.5</td>\n",
              "      <td>INR</td>\n",
              "      <td>0.5556</td>\n",
              "    </tr>\n",
              "    <tr>\n",
              "      <th>1970-01-01 00:00:00.000000006</th>\n",
              "      <td>ASDG</td>\n",
              "      <td>Asiana Dragons Inc</td>\n",
              "      <td>Equity</td>\n",
              "      <td>United States</td>\n",
              "      <td>09:30</td>\n",
              "      <td>16:00</td>\n",
              "      <td>UTC-04</td>\n",
              "      <td>USD</td>\n",
              "      <td>0.4444</td>\n",
              "    </tr>\n",
              "    <tr>\n",
              "      <th>1970-01-01 00:00:00.000000007</th>\n",
              "      <td>ACITF</td>\n",
              "      <td>Asian Citrus Hldgs</td>\n",
              "      <td>Equity</td>\n",
              "      <td>United States</td>\n",
              "      <td>09:30</td>\n",
              "      <td>16:00</td>\n",
              "      <td>UTC-04</td>\n",
              "      <td>USD</td>\n",
              "      <td>0.4348</td>\n",
              "    </tr>\n",
              "    <tr>\n",
              "      <th>1970-01-01 00:00:00.000000008</th>\n",
              "      <td>ACTFF</td>\n",
              "      <td>ASIAN CITRUS HOLDING</td>\n",
              "      <td>Equity</td>\n",
              "      <td>United States</td>\n",
              "      <td>09:30</td>\n",
              "      <td>16:00</td>\n",
              "      <td>UTC-04</td>\n",
              "      <td>USD</td>\n",
              "      <td>0.4000</td>\n",
              "    </tr>\n",
              "    <tr>\n",
              "      <th>1970-01-01 00:00:00.000000009</th>\n",
              "      <td>530355.BSE</td>\n",
              "      <td>Asian Energy Services Limited</td>\n",
              "      <td>Equity</td>\n",
              "      <td>India/Bombay</td>\n",
              "      <td>09:15</td>\n",
              "      <td>15:30</td>\n",
              "      <td>UTC+5.5</td>\n",
              "      <td>INR</td>\n",
              "      <td>0.2941</td>\n",
              "    </tr>\n",
              "  </tbody>\n",
              "</table>\n",
              "</div>\n",
              "      <button class=\"colab-df-convert\" onclick=\"convertToInteractive('df-9c104089-d00f-4e80-842c-e5efa21c925e')\"\n",
              "              title=\"Convert this dataframe to an interactive table.\"\n",
              "              style=\"display:none;\">\n",
              "        \n",
              "  <svg xmlns=\"http://www.w3.org/2000/svg\" height=\"24px\"viewBox=\"0 0 24 24\"\n",
              "       width=\"24px\">\n",
              "    <path d=\"M0 0h24v24H0V0z\" fill=\"none\"/>\n",
              "    <path d=\"M18.56 5.44l.94 2.06.94-2.06 2.06-.94-2.06-.94-.94-2.06-.94 2.06-2.06.94zm-11 1L8.5 8.5l.94-2.06 2.06-.94-2.06-.94L8.5 2.5l-.94 2.06-2.06.94zm10 10l.94 2.06.94-2.06 2.06-.94-2.06-.94-.94-2.06-.94 2.06-2.06.94z\"/><path d=\"M17.41 7.96l-1.37-1.37c-.4-.4-.92-.59-1.43-.59-.52 0-1.04.2-1.43.59L10.3 9.45l-7.72 7.72c-.78.78-.78 2.05 0 2.83L4 21.41c.39.39.9.59 1.41.59.51 0 1.02-.2 1.41-.59l7.78-7.78 2.81-2.81c.8-.78.8-2.07 0-2.86zM5.41 20L4 18.59l7.72-7.72 1.47 1.35L5.41 20z\"/>\n",
              "  </svg>\n",
              "      </button>\n",
              "      \n",
              "  <style>\n",
              "    .colab-df-container {\n",
              "      display:flex;\n",
              "      flex-wrap:wrap;\n",
              "      gap: 12px;\n",
              "    }\n",
              "\n",
              "    .colab-df-convert {\n",
              "      background-color: #E8F0FE;\n",
              "      border: none;\n",
              "      border-radius: 50%;\n",
              "      cursor: pointer;\n",
              "      display: none;\n",
              "      fill: #1967D2;\n",
              "      height: 32px;\n",
              "      padding: 0 0 0 0;\n",
              "      width: 32px;\n",
              "    }\n",
              "\n",
              "    .colab-df-convert:hover {\n",
              "      background-color: #E2EBFA;\n",
              "      box-shadow: 0px 1px 2px rgba(60, 64, 67, 0.3), 0px 1px 3px 1px rgba(60, 64, 67, 0.15);\n",
              "      fill: #174EA6;\n",
              "    }\n",
              "\n",
              "    [theme=dark] .colab-df-convert {\n",
              "      background-color: #3B4455;\n",
              "      fill: #D2E3FC;\n",
              "    }\n",
              "\n",
              "    [theme=dark] .colab-df-convert:hover {\n",
              "      background-color: #434B5C;\n",
              "      box-shadow: 0px 1px 3px 1px rgba(0, 0, 0, 0.15);\n",
              "      filter: drop-shadow(0px 1px 2px rgba(0, 0, 0, 0.3));\n",
              "      fill: #FFFFFF;\n",
              "    }\n",
              "  </style>\n",
              "\n",
              "      <script>\n",
              "        const buttonEl =\n",
              "          document.querySelector('#df-9c104089-d00f-4e80-842c-e5efa21c925e button.colab-df-convert');\n",
              "        buttonEl.style.display =\n",
              "          google.colab.kernel.accessAllowed ? 'block' : 'none';\n",
              "\n",
              "        async function convertToInteractive(key) {\n",
              "          const element = document.querySelector('#df-9c104089-d00f-4e80-842c-e5efa21c925e');\n",
              "          const dataTable =\n",
              "            await google.colab.kernel.invokeFunction('convertToInteractive',\n",
              "                                                     [key], {});\n",
              "          if (!dataTable) return;\n",
              "\n",
              "          const docLinkHtml = 'Like what you see? Visit the ' +\n",
              "            '<a target=\"_blank\" href=https://colab.research.google.com/notebooks/data_table.ipynb>data table notebook</a>'\n",
              "            + ' to learn more about interactive tables.';\n",
              "          element.innerHTML = '';\n",
              "          dataTable['output_type'] = 'display_data';\n",
              "          await google.colab.output.renderOutput(dataTable, element);\n",
              "          const docLink = document.createElement('div');\n",
              "          docLink.innerHTML = docLinkHtml;\n",
              "          element.appendChild(docLink);\n",
              "        }\n",
              "      </script>\n",
              "    </div>\n",
              "  </div>\n",
              "  "
            ]
          },
          "metadata": {},
          "execution_count": 126
        }
      ]
    },
    {
      "cell_type": "code",
      "source": [
        "from alpha_vantage.timeseries import TimeSeries\n",
        "from pprint import pprint\n",
        "import pandas as pd\n",
        "ts = TimeSeries(key='8C2ZW3V9SNCWHABP', output_format='pandas')\n",
        "\n",
        "data1, meta_data1 = ts.get_quote_endpoint(symbol='RELIANCE.BSE')\n",
        "data1=data1.append(ts.get_quote_endpoint(symbol='TCS.BSE'))\n",
        "data1=data1.append(ts.get_quote_endpoint(symbol='TECHM.BSE'))\n",
        "data1=data1.append(ts.get_quote_endpoint(symbol='HDFCBANK.BSE'))\n",
        "data1=data1.append(ts.get_quote_endpoint(symbol='ICICIBANK.BSE'))\n",
        "data1=data1.append(ts.get_quote_endpoint(symbol='SBIN.BSE'))\n",
        "data1=data1.append(ts.get_quote_endpoint(symbol='INFY.BSE'))\n",
        "data1=data1.append(ts.get_quote_endpoint(symbol='HDFC.BSE'))\n",
        "data1=data1.append(ts.get_quote_endpoint(symbol='BHARTIARTL.BSE'))\n",
        "data1=data1.append(ts.get_quote_endpoint(symbol='ADANIENT.BSE'))\n",
        "data1=data1.append(ts.get_quote_endpoint(symbol='ITC.BSE'))\n",
        "data1=data1.append(ts.get_quote_endpoint(symbol='LICI.BSE'))\n",
        "data1=data1.append(ts.get_quote_endpoint(symbol='BAJAJFINSV.BSE'))\n",
        "data1=data1.append(ts.get_quote_endpoint(symbol='KOTAKBANK.BSE\t'))\n",
        "data1=data1.append(ts.get_quote_endpoint(symbol='ASIANPAINT.BSE'))\n",
        "\n",
        "\n",
        "\n",
        "\n",
        "data1\n"
      ],
      "metadata": {
        "colab": {
          "base_uri": "https://localhost:8080/",
          "height": 411
        },
        "id": "oGx5HkckjzHs",
        "outputId": "10079ed4-1587-4598-88af-638a69e2304f"
      },
      "execution_count": null,
      "outputs": [
        {
          "output_type": "error",
          "ename": "ValueError",
          "evalue": "ignored",
          "traceback": [
            "\u001b[0;31m---------------------------------------------------------------------------\u001b[0m",
            "\u001b[0;31mValueError\u001b[0m                                Traceback (most recent call last)",
            "\u001b[0;32m<ipython-input-131-2d0d39241c65>\u001b[0m in \u001b[0;36m<module>\u001b[0;34m\u001b[0m\n\u001b[1;32m      3\u001b[0m \u001b[0mdata1\u001b[0m\u001b[0;34m=\u001b[0m\u001b[0mdata1\u001b[0m\u001b[0;34m.\u001b[0m\u001b[0mappend\u001b[0m\u001b[0;34m(\u001b[0m\u001b[0mts\u001b[0m\u001b[0;34m.\u001b[0m\u001b[0mget_quote_endpoint\u001b[0m\u001b[0;34m(\u001b[0m\u001b[0msymbol\u001b[0m\u001b[0;34m=\u001b[0m\u001b[0;34m'TECHM.BSE'\u001b[0m\u001b[0;34m)\u001b[0m\u001b[0;34m)\u001b[0m\u001b[0;34m\u001b[0m\u001b[0;34m\u001b[0m\u001b[0m\n\u001b[1;32m      4\u001b[0m \u001b[0mdata1\u001b[0m\u001b[0;34m=\u001b[0m\u001b[0mdata1\u001b[0m\u001b[0;34m.\u001b[0m\u001b[0mappend\u001b[0m\u001b[0;34m(\u001b[0m\u001b[0mts\u001b[0m\u001b[0;34m.\u001b[0m\u001b[0mget_quote_endpoint\u001b[0m\u001b[0;34m(\u001b[0m\u001b[0msymbol\u001b[0m\u001b[0;34m=\u001b[0m\u001b[0;34m'HDFCBANK.BSE'\u001b[0m\u001b[0;34m)\u001b[0m\u001b[0;34m)\u001b[0m\u001b[0;34m\u001b[0m\u001b[0;34m\u001b[0m\u001b[0m\n\u001b[0;32m----> 5\u001b[0;31m \u001b[0mdata1\u001b[0m\u001b[0;34m=\u001b[0m\u001b[0mdata1\u001b[0m\u001b[0;34m.\u001b[0m\u001b[0mappend\u001b[0m\u001b[0;34m(\u001b[0m\u001b[0mts\u001b[0m\u001b[0;34m.\u001b[0m\u001b[0mget_quote_endpoint\u001b[0m\u001b[0;34m(\u001b[0m\u001b[0msymbol\u001b[0m\u001b[0;34m=\u001b[0m\u001b[0;34m'ICICIBANK.BSE'\u001b[0m\u001b[0;34m)\u001b[0m\u001b[0;34m)\u001b[0m\u001b[0;34m\u001b[0m\u001b[0;34m\u001b[0m\u001b[0m\n\u001b[0m\u001b[1;32m      6\u001b[0m \u001b[0;31m# data1=data1.append(ts.get_quote_endpoint(symbol='SBIN.BSE'))\u001b[0m\u001b[0;34m\u001b[0m\u001b[0;34m\u001b[0m\u001b[0;34m\u001b[0m\u001b[0m\n\u001b[1;32m      7\u001b[0m \u001b[0mdata1\u001b[0m\u001b[0;34m=\u001b[0m\u001b[0mdata1\u001b[0m\u001b[0;34m.\u001b[0m\u001b[0mappend\u001b[0m\u001b[0;34m(\u001b[0m\u001b[0mts\u001b[0m\u001b[0;34m.\u001b[0m\u001b[0mget_quote_endpoint\u001b[0m\u001b[0;34m(\u001b[0m\u001b[0msymbol\u001b[0m\u001b[0;34m=\u001b[0m\u001b[0;34m'INFY.BSE'\u001b[0m\u001b[0;34m)\u001b[0m\u001b[0;34m)\u001b[0m\u001b[0;34m\u001b[0m\u001b[0;34m\u001b[0m\u001b[0m\n",
            "\u001b[0;32m/usr/local/lib/python3.7/dist-packages/alpha_vantage/alphavantage.py\u001b[0m in \u001b[0;36m_format_wrapper\u001b[0;34m(self, *args, **kwargs)\u001b[0m\n\u001b[1;32m    217\u001b[0m         \u001b[0;32mdef\u001b[0m \u001b[0m_format_wrapper\u001b[0m\u001b[0;34m(\u001b[0m\u001b[0mself\u001b[0m\u001b[0;34m,\u001b[0m \u001b[0;34m*\u001b[0m\u001b[0margs\u001b[0m\u001b[0;34m,\u001b[0m \u001b[0;34m**\u001b[0m\u001b[0mkwargs\u001b[0m\u001b[0;34m)\u001b[0m\u001b[0;34m:\u001b[0m\u001b[0;34m\u001b[0m\u001b[0;34m\u001b[0m\u001b[0m\n\u001b[1;32m    218\u001b[0m             call_response, data_key, meta_data_key = func(\n\u001b[0;32m--> 219\u001b[0;31m                 self, *args, **kwargs)\n\u001b[0m\u001b[1;32m    220\u001b[0m             \u001b[0;32mif\u001b[0m \u001b[0;34m'json'\u001b[0m \u001b[0;32min\u001b[0m \u001b[0mself\u001b[0m\u001b[0;34m.\u001b[0m\u001b[0moutput_format\u001b[0m\u001b[0;34m.\u001b[0m\u001b[0mlower\u001b[0m\u001b[0;34m(\u001b[0m\u001b[0;34m)\u001b[0m \u001b[0;32mor\u001b[0m \u001b[0;34m'pandas'\u001b[0m\u001b[0;31m \u001b[0m\u001b[0;31m\\\u001b[0m\u001b[0;34m\u001b[0m\u001b[0;34m\u001b[0m\u001b[0m\n\u001b[1;32m    221\u001b[0m                     \u001b[0;32min\u001b[0m \u001b[0mself\u001b[0m\u001b[0;34m.\u001b[0m\u001b[0moutput_format\u001b[0m\u001b[0;34m.\u001b[0m\u001b[0mlower\u001b[0m\u001b[0;34m(\u001b[0m\u001b[0;34m)\u001b[0m\u001b[0;34m:\u001b[0m\u001b[0;34m\u001b[0m\u001b[0;34m\u001b[0m\u001b[0m\n",
            "\u001b[0;32m/usr/local/lib/python3.7/dist-packages/alpha_vantage/alphavantage.py\u001b[0m in \u001b[0;36m_call_wrapper\u001b[0;34m(self, *args, **kwargs)\u001b[0m\n\u001b[1;32m    158\u001b[0m             \u001b[0;32melse\u001b[0m\u001b[0;34m:\u001b[0m\u001b[0;34m\u001b[0m\u001b[0;34m\u001b[0m\u001b[0m\n\u001b[1;32m    159\u001b[0m                 \u001b[0murl\u001b[0m \u001b[0;34m=\u001b[0m \u001b[0;34m'{}{}'\u001b[0m\u001b[0;34m.\u001b[0m\u001b[0mformat\u001b[0m\u001b[0;34m(\u001b[0m\u001b[0murl\u001b[0m\u001b[0;34m,\u001b[0m \u001b[0mapikey_parameter\u001b[0m\u001b[0;34m)\u001b[0m\u001b[0;34m\u001b[0m\u001b[0;34m\u001b[0m\u001b[0m\n\u001b[0;32m--> 160\u001b[0;31m             \u001b[0;32mreturn\u001b[0m \u001b[0mself\u001b[0m\u001b[0;34m.\u001b[0m\u001b[0m_handle_api_call\u001b[0m\u001b[0;34m(\u001b[0m\u001b[0murl\u001b[0m\u001b[0;34m)\u001b[0m\u001b[0;34m,\u001b[0m \u001b[0mdata_key\u001b[0m\u001b[0;34m,\u001b[0m \u001b[0mmeta_data_key\u001b[0m\u001b[0;34m\u001b[0m\u001b[0;34m\u001b[0m\u001b[0m\n\u001b[0m\u001b[1;32m    161\u001b[0m         \u001b[0;32mreturn\u001b[0m \u001b[0m_call_wrapper\u001b[0m\u001b[0;34m\u001b[0m\u001b[0;34m\u001b[0m\u001b[0m\n\u001b[1;32m    162\u001b[0m \u001b[0;34m\u001b[0m\u001b[0m\n",
            "\u001b[0;32m/usr/local/lib/python3.7/dist-packages/alpha_vantage/alphavantage.py\u001b[0m in \u001b[0;36m_handle_api_call\u001b[0;34m(self, url)\u001b[0m\n\u001b[1;32m    361\u001b[0m                 \u001b[0;32mraise\u001b[0m \u001b[0mValueError\u001b[0m\u001b[0;34m(\u001b[0m\u001b[0mjson_response\u001b[0m\u001b[0;34m[\u001b[0m\u001b[0;34m\"Information\"\u001b[0m\u001b[0;34m]\u001b[0m\u001b[0;34m)\u001b[0m\u001b[0;34m\u001b[0m\u001b[0;34m\u001b[0m\u001b[0m\n\u001b[1;32m    362\u001b[0m             \u001b[0;32melif\u001b[0m \u001b[0;34m\"Note\"\u001b[0m \u001b[0;32min\u001b[0m \u001b[0mjson_response\u001b[0m \u001b[0;32mand\u001b[0m \u001b[0mself\u001b[0m\u001b[0;34m.\u001b[0m\u001b[0mtreat_info_as_error\u001b[0m\u001b[0;34m:\u001b[0m\u001b[0;34m\u001b[0m\u001b[0;34m\u001b[0m\u001b[0m\n\u001b[0;32m--> 363\u001b[0;31m                 \u001b[0;32mraise\u001b[0m \u001b[0mValueError\u001b[0m\u001b[0;34m(\u001b[0m\u001b[0mjson_response\u001b[0m\u001b[0;34m[\u001b[0m\u001b[0;34m\"Note\"\u001b[0m\u001b[0;34m]\u001b[0m\u001b[0;34m)\u001b[0m\u001b[0;34m\u001b[0m\u001b[0;34m\u001b[0m\u001b[0m\n\u001b[0m\u001b[1;32m    364\u001b[0m             \u001b[0;32mreturn\u001b[0m \u001b[0mjson_response\u001b[0m\u001b[0;34m\u001b[0m\u001b[0;34m\u001b[0m\u001b[0m\n\u001b[1;32m    365\u001b[0m         \u001b[0;32melse\u001b[0m\u001b[0;34m:\u001b[0m\u001b[0;34m\u001b[0m\u001b[0;34m\u001b[0m\u001b[0m\n",
            "\u001b[0;31mValueError\u001b[0m: Thank you for using Alpha Vantage! Our standard API call frequency is 5 calls per minute and 500 calls per day. Please visit https://www.alphavantage.co/premium/ if you would like to target a higher API call frequency."
          ]
        }
      ]
    },
    {
      "cell_type": "code",
      "source": [],
      "metadata": {
        "id": "Pq10oCX9GYcF"
      },
      "execution_count": null,
      "outputs": []
    },
    {
      "cell_type": "code",
      "source": [
        "dictionary = data.to_dict('record')\n",
        "dictionary"
      ],
      "metadata": {
        "colab": {
          "base_uri": "https://localhost:8080/"
        },
        "id": "Ye_WHNOdegcV",
        "outputId": "cd65cc5f-1ab7-4a88-b49c-1a8f90d026ce"
      },
      "execution_count": null,
      "outputs": [
        {
          "output_type": "stream",
          "name": "stderr",
          "text": [
            "/usr/local/lib/python3.7/dist-packages/ipykernel_launcher.py:1: FutureWarning: Using short name for 'orient' is deprecated. Only the options: ('dict', list, 'series', 'split', 'records', 'index') will be used in a future version. Use one of the above to silence this warning.\n",
            "  \"\"\"Entry point for launching an IPython kernel.\n"
          ]
        },
        {
          "output_type": "execute_result",
          "data": {
            "text/plain": [
              "[{'01. symbol': 'TECHM.BSE',\n",
              "  '02. open': '1087.0000',\n",
              "  '03. high': '1107.8000',\n",
              "  '04. low': '1087.0000',\n",
              "  '05. price': '1101.8000',\n",
              "  '06. volume': '224668',\n",
              "  '07. latest trading day': '2022-12-01',\n",
              "  '08. previous close': '1077.3000',\n",
              "  '09. change': '24.5000',\n",
              "  '10. change percent': '2.2742%'},\n",
              " {'01. symbol': 'RELIANCE.BSE',\n",
              "  '02. open': '2715.0000',\n",
              "  '03. high': '2743.6001',\n",
              "  '04. low': '2699.1001',\n",
              "  '05. price': '2732.3999',\n",
              "  '06. volume': '116521',\n",
              "  '07. latest trading day': '2022-11-30',\n",
              "  '08. previous close': '2711.0500',\n",
              "  '09. change': '21.3499',\n",
              "  '10. change percent': '0.7875%'}]"
            ]
          },
          "metadata": {},
          "execution_count": 98
        }
      ]
    },
    {
      "cell_type": "code",
      "source": [
        "import pandas as pd\n",
        "df=pd.DataFrame(data)\n",
        "\n"
      ],
      "metadata": {
        "colab": {
          "base_uri": "https://localhost:8080/"
        },
        "id": "WEM3IFpBcbUZ",
        "outputId": "0329d425-4449-4d9d-cb2e-2083582e4115"
      },
      "execution_count": null,
      "outputs": [
        {
          "output_type": "execute_result",
          "data": {
            "text/plain": [
              "date\n",
              "2022-11-30    150.4600\n",
              "2022-10-31    138.8615\n",
              "2022-09-30    130.9900\n",
              "2022-08-31    139.3400\n",
              "2022-07-29    141.8700\n",
              "                ...   \n",
              "2000-04-28    128.0000\n",
              "2000-03-31    128.2500\n",
              "2000-02-29    119.7500\n",
              "2000-01-31    124.7500\n",
              "1999-12-31    122.1200\n",
              "Name: 2. high, Length: 276, dtype: float64"
            ]
          },
          "metadata": {},
          "execution_count": 69
        }
      ]
    },
    {
      "cell_type": "code",
      "source": [
        "import inspect\n",
        "print(inspect.getsource(ts.get_symbol_search))"
      ],
      "metadata": {
        "colab": {
          "base_uri": "https://localhost:8080/"
        },
        "id": "uidzNYB8WNcw",
        "outputId": "deebc0a5-30ab-41ed-b823-54cb7cd93e59"
      },
      "execution_count": null,
      "outputs": [
        {
          "output_type": "stream",
          "name": "stdout",
          "text": [
            "    @av._output_format\n",
            "    @av._call_api_on_func\n",
            "    def get_symbol_search(self, keywords):\n",
            "        \"\"\" Return best matching symbols and market information\n",
            "        based on keywords. It raises ValueError when problems arise\n",
            "\n",
            "        Keyword Arguments:\n",
            "            keywords: the keywords to query on\n",
            "\n",
            "        \"\"\"\n",
            "        _FUNCTION_KEY = \"SYMBOL_SEARCH\"\n",
            "        return _FUNCTION_KEY, 'bestMatches', None\n",
            "\n"
          ]
        }
      ]
    },
    {
      "cell_type": "code",
      "source": [
        "import matplotlib.pyplot as plt\n",
        "plt.plot(df['1. open'])\n",
        "plt.show()"
      ],
      "metadata": {
        "colab": {
          "base_uri": "https://localhost:8080/",
          "height": 269
        },
        "id": "1a3ghfiHdD5h",
        "outputId": "a1d92cee-b5af-4bed-e7f1-14d70f6fc5f7"
      },
      "execution_count": null,
      "outputs": [
        {
          "output_type": "display_data",
          "data": {
            "text/plain": [
              "<Figure size 432x288 with 1 Axes>"
            ],
            "image/png": "[encoded data removed]"
          },
          "metadata": {
            "needs_background": "light"
          }
        }
      ]
    },
    {
      "cell_type": "code",
      "source": [],
      "metadata": {
        "id": "jTb4qW3UeDXL"
      },
      "execution_count": null,
      "outputs": []
    },
    {
      "cell_type": "code",
      "source": [],
      "metadata": {
        "id": "eK9X3kxEdIV5"
      },
      "execution_count": null,
      "outputs": []
    },
    {
      "cell_type": "code",
      "source": [
        "help(TimeSeries.get_intraday)"
      ],
      "metadata": {
        "colab": {
          "base_uri": "https://localhost:8080/"
        },
        "id": "DNygjIUlbDFY",
        "outputId": "a7e36e1d-ca5e-494f-f814-5199fdddba95"
      },
      "execution_count": null,
      "outputs": [
        {
          "output_type": "stream",
          "name": "stdout",
          "text": [
            "Help on function get_intraday in module alpha_vantage.timeseries:\n",
            "\n",
            "get_intraday(self, symbol, interval='15min', outputsize='compact')\n",
            "    Return intraday time series in two json objects as data and\n",
            "    meta_data. It raises ValueError when problems arise\n",
            "    \n",
            "    Keyword Arguments:\n",
            "        symbol:  the symbol for the equity we want to get its data\n",
            "        interval:  time interval between two conscutive values,\n",
            "            supported values are '1min', '5min', '15min', '30min', '60min'\n",
            "            (default '15min')\n",
            "        outputsize:  The size of the call, supported values are\n",
            "            'compact' and 'full; the first returns the last 100 points in the\n",
            "            data series, and 'full' returns the full-length intraday times\n",
            "            series, commonly above 1MB (default 'compact')\n",
            "\n"
          ]
        }
      ]
    },
    {
      "cell_type": "code",
      "source": [
        "from BSEStockQuotes import BSEStockQuotes\n",
        "from CompanyArchivedQuotes import CompanyArchivedQuotes\n",
        "\n",
        "class BSEArchivedStockQuotes(BSEStockQuotes):\n",
        "\n",
        "\tdef get_stock_quotes(self):\n",
        "\t\tfor company in self.companies:\n",
        "\t\t\tself.stockQuotes[company] = CompanyArchivedQuotes(company)\n",
        "\n",
        "\tdef print_output(self, delimiter='\\t'):\n",
        "\t\tCompanyArchivedQuotes.print_headers(delimiter)\n",
        "\t\tfor company in self.companies:\n",
        "\t\t\tself.stockQuotes[company].print_info(delimiter)"
      ],
      "metadata": {
        "colab": {
          "base_uri": "https://localhost:8080/",
          "height": 387
        },
        "id": "P6EmvvqCDB4x",
        "outputId": "b5ac1720-5fce-4f27-fd08-d35bea4319b8"
      },
      "execution_count": null,
      "outputs": [
        {
          "output_type": "error",
          "ename": "ModuleNotFoundError",
          "evalue": "ignored",
          "traceback": [
            "\u001b[0;31m---------------------------------------------------------------------------\u001b[0m",
            "\u001b[0;31mModuleNotFoundError\u001b[0m                       Traceback (most recent call last)",
            "\u001b[0;32m<ipython-input-21-f7cb07e56162>\u001b[0m in \u001b[0;36m<module>\u001b[0;34m\u001b[0m\n\u001b[0;32m----> 1\u001b[0;31m \u001b[0;32mfrom\u001b[0m \u001b[0mBSEStockQuotes\u001b[0m \u001b[0;32mimport\u001b[0m \u001b[0mBSEStockQuotes\u001b[0m\u001b[0;34m\u001b[0m\u001b[0;34m\u001b[0m\u001b[0m\n\u001b[0m\u001b[1;32m      2\u001b[0m \u001b[0;32mfrom\u001b[0m \u001b[0mCompanyArchivedQuotes\u001b[0m \u001b[0;32mimport\u001b[0m \u001b[0mCompanyArchivedQuotes\u001b[0m\u001b[0;34m\u001b[0m\u001b[0;34m\u001b[0m\u001b[0m\n\u001b[1;32m      3\u001b[0m \u001b[0;34m\u001b[0m\u001b[0m\n\u001b[1;32m      4\u001b[0m \u001b[0;32mclass\u001b[0m \u001b[0mBSEArchivedStockQuotes\u001b[0m\u001b[0;34m(\u001b[0m\u001b[0mBSEStockQuotes\u001b[0m\u001b[0;34m)\u001b[0m\u001b[0;34m:\u001b[0m\u001b[0;34m\u001b[0m\u001b[0;34m\u001b[0m\u001b[0m\n\u001b[1;32m      5\u001b[0m \u001b[0;34m\u001b[0m\u001b[0m\n",
            "\u001b[0;31mModuleNotFoundError\u001b[0m: No module named 'BSEStockQuotes'",
            "",
            "\u001b[0;31m---------------------------------------------------------------------------\u001b[0;32m\nNOTE: If your import is failing due to a missing package, you can\nmanually install dependencies using either !pip or !apt.\n\nTo view examples of installing some common dependencies, click the\n\"Open Examples\" button below.\n\u001b[0;31m---------------------------------------------------------------------------\u001b[0m\n"
          ],
          "errorDetails": {
            "actions": [
              {
                "action": "open_url",
                "actionText": "Open Examples",
                "url": "/notebooks/snippets/importing_libraries.ipynb"
              }
            ]
          }
        }
      ]
    },
    {
      "cell_type": "code",
      "source": [
        "!pip install nsetools"
      ],
      "metadata": {
        "colab": {
          "base_uri": "https://localhost:8080/"
        },
        "id": "Ryj60IgmDXna",
        "outputId": "48634e63-adc1-4637-d310-32ea07287b79"
      },
      "execution_count": null,
      "outputs": [
        {
          "output_type": "stream",
          "name": "stdout",
          "text": [
            "Looking in indexes: https://pypi.org/simple, https://us-python.pkg.dev/colab-wheels/public/simple/\n",
            "Collecting nsetools\n",
            "  Downloading nsetools-1.0.11-py3-none-any.whl (9.6 kB)\n",
            "Requirement already satisfied: six in /usr/local/lib/python3.7/dist-packages (from nsetools) (1.15.0)\n",
            "Collecting dateutils\n",
            "  Downloading dateutils-0.6.12-py2.py3-none-any.whl (5.7 kB)\n",
            "Requirement already satisfied: pytz in /usr/local/lib/python3.7/dist-packages (from dateutils->nsetools) (2022.6)\n",
            "Requirement already satisfied: python-dateutil in /usr/local/lib/python3.7/dist-packages (from dateutils->nsetools) (2.8.2)\n",
            "Installing collected packages: dateutils, nsetools\n",
            "Successfully installed dateutils-0.6.12 nsetools-1.0.11\n"
          ]
        }
      ]
    },
    {
      "cell_type": "code",
      "source": [
        "from nsetools import Nse\n",
        "nse = Nse()\n",
        "print(nse)"
      ],
      "metadata": {
        "colab": {
          "base_uri": "https://localhost:8080/"
        },
        "id": "eNFnG1vdEmXN",
        "outputId": "3e45236c-6e4e-4d05-dd97-fa5648598e2c"
      },
      "execution_count": null,
      "outputs": [
        {
          "output_type": "stream",
          "name": "stdout",
          "text": [
            "Driver Class for National Stock Exchange (NSE)\n"
          ]
        }
      ]
    },
    {
      "cell_type": "code",
      "source": [
        "!wget https://www.alphavantage.co/query?function=TIME_SERIES_DAILY&symbol=SBIN.BSE&outputsize=full&apikey=5KQGQOS6Z9NE2O6L"
      ],
      "metadata": {
        "colab": {
          "base_uri": "https://localhost:8080/"
        },
        "id": "CKrTzDACFVvz",
        "outputId": "6b4f6361-3a7a-4f40-9c32-fb22af1d7d51"
      },
      "execution_count": null,
      "outputs": [
        {
          "output_type": "stream",
          "name": "stdout",
          "text": [
            "--2022-11-22 16:16:03--  https://www.alphavantage.co/query?function=TIME_SERIES_DAILY\n",
            "Resolving www.alphavantage.co (www.alphavantage.co)... 104.22.70.209, 172.67.23.2, 104.22.71.209, ...\n",
            "Connecting to www.alphavantage.co (www.alphavantage.co)|104.22.70.209|:443... connected.\n",
            "HTTP request sent, awaiting response... 200 OK\n",
            "Length: unspecified [application/json]\n",
            "Saving to: ‘query?function=TIME_SERIES_DAILY.2’\n",
            "\n",
            "query?function=TIME     [ <=>                ]     189  --.-KB/s    in 0s      \n",
            "\n",
            "2022-11-22 16:16:04 (25.5 MB/s) - ‘query?function=TIME_SERIES_DAILY.2’ saved [189]\n",
            "\n"
          ]
        }
      ]
    },
    {
      "cell_type": "code",
      "source": [
        "# Python 3\n",
        "import http.client, urllib.parse\n",
        "\n",
        "conn = http.client.HTTPSConnection('api.marketaux.com')\n",
        "\n",
        "params = urllib.parse.urlencode({\n",
        "    'api_token': 'aslW9HYhLPLmbNCuYK7js0E35DJzGgOd9OnDnFXg',\n",
        "    'symbols': 'SKL.BO',\n",
        "    'limit': 3,\n",
        "    'exchanges':'BSE',\n",
        "    'published_after':'2022',\n",
        "    'filter_entities':'true',\n",
        "    # 'entity_types':'index,equity',\n",
        "    # 'countries':'India',\n",
        "    })\n",
        "\n",
        "conn.request('GET', '/v1/news/all?{}'.format(params))\n",
        "\n",
        "res = conn.getresponse()\n",
        "data = res.read()\n",
        "\n",
        "print(data.decode('utf-8'))"
      ],
      "metadata": {
        "colab": {
          "base_uri": "https://localhost:8080/"
        },
        "id": "o6hq3yB-3UqM",
        "outputId": "ec7d513e-531c-487f-805b-5111edc34981"
      },
      "execution_count": null,
      "outputs": [
        {
          "output_type": "stream",
          "name": "stdout",
          "text": [
            "{\"meta\":{\"found\":1,\"returned\":1,\"limit\":3,\"page\":1},\"data\":[{\"uuid\":\"a822da5e-2227-4d86-b85a-3d891f4e0181\",\"title\":\"Textile sector seeing a structural turnaround; here's how to play the theme\",\"description\":\"Read more about Textile sector seeing a structural turnaround; here's how to play the theme on Business Standard. The stocks in the sector are also ripe for a re-rating as robust export opportunities give strong and sustainable earnings visibility\",\"keywords\":\"markets, textile sector, textile stocks, textile, exports, cotton, apparel, cotton prices, clothing, US, china, india exports, textile outlook\",\"snippet\":\"Shares of textile companies bucked the weak market trend and managed to rally on Thursday as improving exports of Cotton and Made-up apparel, along with attract...\",\"url\":\"https:\\/\\/www.business-standard.com\\/article\\/markets\\/textile-sector-seeing-a-structural-turnaround-here-s-how-to-play-the-theme-122010600658_1.html\",\"image_url\":\"https:\\/\\/bsmedia.business-standard.com\\/_media\\/bs\\/img\\/article\\/2020-03\\/06\\/full\\/1583437132-4122.jpg\",\"language\":\"en\",\"published_at\":\"2022-01-06T07:58:49.000000Z\",\"source\":\"business-standard.com\",\"relevance_score\":null,\"entities\":[{\"symbol\":\"SKL.BO\",\"name\":\"SUPER FINE KNITTERS LIMITED\",\"exchange\":\"BSE\",\"exchange_long\":\"Bombay Stock Exchange\",\"country\":\"in\",\"type\":\"equity\",\"industry\":\"Consumer Cyclical\",\"match_score\":23.792053,\"sentiment_score\":0.8271,\"highlights\":[{\"highlight\":\"Shares of <em>Super<\\/em> <em>Fine<\\/em> <em>Knitters<\\/em>, Super Spinning, and Filatex India rallied up to 10 per cent intra-day. Those of JCT, Surat Textile, Swasti Vinayaka, KPR Mills, Gokaldas Exports, Vardhaman Textiles, Sumeet Industries, Bhandari Hosiery, Minaxi Textiles, and Bombay Rayon, meanwhile, gained between 4-5 per cent.\",\"sentiment\":0.8271,\"highlighted_in\":\"main_text\"}]}],\"similar\":[]}]}\n"
          ]
        }
      ]
    },
    {
      "cell_type": "code",
      "source": [
        "!wget 'https://api.marketaux.com/v1/news/all?symbols=TSLA&filter_entities=true&api_token=aslW9HYhLPLmbNCuYK7js0E35DJzGgOd9OnDnFXg'"
      ],
      "metadata": {
        "colab": {
          "base_uri": "https://localhost:8080/"
        },
        "id": "LMGlK1Iu9mY0",
        "outputId": "eddb8a88-3972-4b61-ea51-bbefa436fdb4"
      },
      "execution_count": null,
      "outputs": [
        {
          "output_type": "stream",
          "name": "stdout",
          "text": [
            "--2022-12-03 07:52:01--  https://api.marketaux.com/v1/news/all?symbols=TSLA&filter_entities=true&api_token=aslW9HYhLPLmbNCuYK7js0E35DJzGgOd9OnDnFXg\n",
            "Resolving api.marketaux.com (api.marketaux.com)... 172.67.135.159, 104.21.26.76, 2606:4700:3034::ac43:879f, ...\n",
            "Connecting to api.marketaux.com (api.marketaux.com)|172.67.135.159|:443... connected.\n",
            "HTTP request sent, awaiting response... 200 OK\n",
            "Length: unspecified [application/json]\n",
            "Saving to: ‘all?symbols=TSLA&filter_entities=true&api_token=aslW9HYhLPLmbNCuYK7js0E35DJzGgOd9OnDnFXg’\n",
            "\n",
            "all?symbols=TSLA&fi     [ <=>                ]   5.22K  --.-KB/s    in 0s      \n",
            "\n",
            "2022-12-03 07:52:01 (26.0 MB/s) - ‘all?symbols=TSLA&filter_entities=true&api_token=aslW9HYhLPLmbNCuYK7js0E35DJzGgOd9OnDnFXg’ saved [5349]\n",
            "\n"
          ]
        }
      ]
    }
  ]
}