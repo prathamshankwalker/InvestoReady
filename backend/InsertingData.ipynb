{
  "cells": [
    {
      "cell_type": "code",
      "execution_count": null,
      "metadata": {
        "colab": {
          "base_uri": "https://localhost:8080/"
        },
        "id": "50J5aKCtA6xZ",
        "outputId": "cfc1edd4-5ed0-4f08-b015-d73956ed4c64"
      },
      "outputs": [],
      "source": [
        "!pip install pyrebase4"
      ]
    },
    {
      "cell_type": "code",
      "execution_count": null,
      "metadata": {
        "id": "qjX6MdH-BFQd"
      },
      "outputs": [],
      "source": [
        "import pyrebase"
      ]
    },
    {
      "cell_type": "code",
      "execution_count": null,
      "metadata": {
        "id": "2pcIzkhqBRty"
      },
      "outputs": [],
      "source": [
        "config = {\n",
        "    \"\"\"\n",
        "    Paste the firebase config object here which is available in Project Settings of your firebase project\n",
        "    \"\"\"\n",
        "}"
      ]
    },
    {
      "cell_type": "code",
      "execution_count": null,
      "metadata": {
        "id": "D5xUNQN8A-C-"
      },
      "outputs": [],
      "source": [
        "firebase = pyrebase.initialize_app(config)\n",
        "db = firebase.database()"
      ]
    },
    {
      "cell_type": "code",
      "execution_count": null,
      "metadata": {
        "id": "E0d4vDd2gO8T"
      },
      "outputs": [],
      "source": [
        "data = [\n",
        "    # Copy the data from the StockData.json file and paste it here\n",
        "]"
      ]
    },
    {
      "cell_type": "code",
      "execution_count": null,
      "metadata": {
        "colab": {
          "base_uri": "https://localhost:8080/"
        },
        "id": "eTjooUreBYi0",
        "outputId": "95b3c2b0-81b3-4e9e-a98e-35434b260741"
      },
      "outputs": [],
      "source": [
        "db.child(\"Stocks\").set(data)"
      ]
    },
    {
      "cell_type": "code",
      "execution_count": null,
      "metadata": {
        "id": "ozL5T2e93ghF"
      },
      "outputs": [],
      "source": [
        "portfolioData = [\n",
        "    # Copy the data from the PortfolioData.json file and paste it here\n",
        "]"
      ]
    },
    {
      "cell_type": "code",
      "execution_count": null,
      "metadata": {
        "colab": {
          "base_uri": "https://localhost:8080/"
        },
        "id": "ZwENzoe23rjC",
        "outputId": "8be6ed06-cbfe-4abf-e351-bd536a286a32"
      },
      "outputs": [],
      "source": [
        "db.child(\"PortfolioData\").set(portfolioData)"
      ]
    }
  ],
  "metadata": {
    "colab": {
      "provenance": []
    },
    "kernelspec": {
      "display_name": "Python 3",
      "language": "python",
      "name": "python3"
    },
    "language_info": {
      "name": "python",
      "version": "3.10.3 (tags/v3.10.3:a342a49, Mar 16 2022, 13:07:40) [MSC v.1929 64 bit (AMD64)]"
    },
    "vscode": {
      "interpreter": {
        "hash": "902833bb6c1c86331785ef3cabe313ceded776cf162b827a4586bafc8034154b"
      }
    }
  },
  "nbformat": 4,
  "nbformat_minor": 0
}
